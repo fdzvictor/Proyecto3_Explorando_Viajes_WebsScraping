{
 "cells": [
  {
   "cell_type": "code",
   "execution_count": 2,
   "metadata": {},
   "outputs": [],
   "source": [
    "# Importamos las librerías que necesitamos\n",
    "\n",
    "# Librerías de extracción de datos\n",
    "# -----------------------------------------------------------------------\n",
    "\n",
    "# Importaciones:\n",
    "# Beautifulsoup\n",
    "from bs4 import BeautifulSoup\n",
    "\n",
    "# Requests\n",
    "import requests\n",
    "\n",
    "# Importar librerías para automatización de navegadores web con Selenium\n",
    "# -----------------------------------------------------------------------\n",
    "from selenium import webdriver  # Selenium es una herramienta para automatizar la interacción con navegadores web.\n",
    "from webdriver_manager.chrome import ChromeDriverManager  # ChromeDriverManager gestiona la instalación del controlador de Chrome.\n",
    "from selenium.webdriver.common.keys import Keys  # Keys es útil para simular eventos de teclado en Selenium.\n",
    "from selenium.webdriver.support.ui import Select  # Select se utiliza para interactuar con elementos <select> en páginas web.\n",
    "from selenium.webdriver.support.ui import WebDriverWait\n",
    "from selenium.webdriver.support import expected_conditions as EC\n",
    "from selenium.common.exceptions import NoSuchElementException # Excepciones comunes de selenium que nos podemos encontrar \n",
    "\n",
    "\n",
    "# Importar librerías para pausar la ejecución\n",
    "# -----------------------------------------------------------------------\n",
    "from time import sleep  # Sleep se utiliza para pausar la ejecución del programa por un número de segundos.\n",
    "\n",
    "# Librerías para tratamiento de datos\n",
    "# -----------------------------------------------------------------------\n",
    "import pandas as pd\n",
    "import numpy as np\n",
    "\n",
    "import sys\n",
    "sys.path.append(\"../\")\n",
    "from src import soporte"
   ]
  },
  {
   "cell_type": "code",
   "execution_count": 3,
   "metadata": {},
   "outputs": [
    {
     "data": {
      "text/plain": [
       "['1. Faunia y Zoo Aquarium',\n",
       " '2. Museo de Cera',\n",
       " '3. Santiago Bernabéu o Cívitas Metropolitano',\n",
       " '4. LEGENDS',\n",
       " '5. El Bosque Encantado',\n",
       " '6. Sweet Space',\n",
       " '7. Museo del Turrón',\n",
       " '8. Casa del Ratón Pérez',\n",
       " '9. Parque de El Retiro',\n",
       " '10. Parque Warner o Parque de Atracciones de Madrid',\n",
       " '11. Tours para familias',\n",
       " '12. Aladdín y El Rey León',\n",
       " '13. Museo de las Ilusiones',\n",
       " '14. Warner Beach o Aquopolis',\n",
       " '15. Navidad en Madrid en el Navibús',\n",
       " 'Comentarios (0)']"
      ]
     },
     "execution_count": 3,
     "metadata": {},
     "output_type": "execute_result"
    }
   ],
   "source": [
    "#Actividades para la familia\n",
    "url_madrid = \"https://www.civitatis.com/blog/planes-ninos-comunidad-madrid/?srsltid=AfmBOoqBeHFAInIi0YQIvJetcz18SPdsk7HOqd5hzzPloPNJ_grwazzY\"\n",
    "res_url = requests.get(url_madrid)\n",
    "res_url.status_code\n",
    "\n",
    "sopa_actividades_madrid = BeautifulSoup(res_url.content,\"html.parser\")\n",
    "lista_actividades_madrid = sopa_actividades_madrid.findAll(\"h2\")\n",
    "activ_madrid = []\n",
    "for actividad in lista_actividades_madrid:\n",
    "    activ_madrid.append(actividad.getText(strip = True))\n",
    "\n",
    "activ_paris = activ_madrid[:-3]\n",
    "activ_paris\n",
    "##Implementar varias paginas en el futuro"
   ]
  },
  {
   "cell_type": "code",
   "execution_count": 4,
   "metadata": {},
   "outputs": [
    {
     "name": "stdout",
     "output_type": "stream",
     "text": [
      "200\n"
     ]
    },
    {
     "data": {
      "text/plain": [
       "['Palacio Real',\n",
       " 'Real Jardín Botánico de Madrid',\n",
       " 'Catedral de la Almudena',\n",
       " 'Parque del Retiro',\n",
       " 'Asiste a una representación en el Teatro Real',\n",
       " 'Círculo de Bellas Artes',\n",
       " 'Museo del Romanticismo',\n",
       " 'Casa de Campo',\n",
       " 'Hammam Al Ándalus',\n",
       " 'Disfruta de una cena en el barrio de las Letras']"
      ]
     },
     "execution_count": 4,
     "metadata": {},
     "output_type": "execute_result"
    }
   ],
   "source": [
    "#Actividades en pareja\n",
    "act_par = soporte.sacar_info_h2(\"https://es.hoteles.com/go/espana/cosas-que-hacer-en-pareja-en-madrid\")\n",
    "actividades_en_pareja_paris = act_par[2:-4]\n",
    "actividades_en_pareja_paris"
   ]
  },
  {
   "cell_type": "code",
   "execution_count": 7,
   "metadata": {},
   "outputs": [
    {
     "name": "stdout",
     "output_type": "stream",
     "text": [
      "200\n",
      "Tour a Ávila y Segovia con Tickets a Monumentos desde Madrid \n",
      "Espectáculo flamenco y menú especial en Torres Bermejas de Madrid\n",
      "Tour a Toledo con Catedral, Sinagoga e Iglesia de St Tomé \n",
      "Recorrido de tapas y cata de vinos por Madrid\n",
      "Visita Guiada al Palacio Real de Madrid con Entrada Evite las Colas y Opcional Colleciones Reales \n",
      "Tour de la Ciudad de Toledo y Visita a Bodega con Cata de Vinos desde Madrid\n",
      "Visita guiada exclusiva a pie por la ciudad vieja de Madrid \n",
      "Tour en grupo reducido por el Museo del Prado con entrada sin colas\n",
      "Clase de Paella y Sangría en el Centro de Madrid \n",
      "Tour en autobús turístico City Sightseeing por Madrid: billete de 24 horas\n"
     ]
    }
   ],
   "source": [
    "#Actividades para aventureros solitarios\n",
    "headers = {\n",
    "        'User-Agent': 'Mozilla/5.0 (Windows NT 10.0; Win64; x64) AppleWebKit/537.36 (KHTML, like Gecko) Chrome/115.0.0.0 Safari/537.36',\n",
    "        'Accept': 'text/html,application/xhtml+xml,application/xml;q=0.9,image/webp,image/apng,*/*;q=0.8',\n",
    "        'Accept-Language': 'es',\n",
    "        'Accept-Encoding': 'gzip, deflate, br',\n",
    "        'Connection': 'keep-alive',\n",
    "        'Upgrade-Insecure-Requests': '1',\n",
    "        'Referer': 'https://www.getyourguide.es/'\n",
    " }\n",
    "url = \"https://www.tripadvisor.es/Attractions-g187514-Activities-Madrid.html\"     \n",
    "res_url = requests.get(url, headers=headers)\n",
    "\n",
    "    # Verifica el código de estado\n",
    "print(res_url.status_code)\n",
    "\n",
    "    # Si el código de estado es 200, procesa la respuesta\n",
    "if res_url.status_code == 200:\n",
    "        sopa_actividades = BeautifulSoup(res_url.content, \"html.parser\")\n",
    "        lista_actividades = sopa_actividades.findAll(\"h3\")\n",
    "        lista_vacia = []\n",
    "    \n",
    "        for i in lista_actividades:\n",
    "                print(i.getText())\n",
    "\n"
   ]
  },
  {
   "cell_type": "code",
   "execution_count": 9,
   "metadata": {},
   "outputs": [
    {
     "name": "stdout",
     "output_type": "stream",
     "text": [
      "200\n"
     ]
    }
   ],
   "source": [
    "\n",
    "#Actividades por el campo para ecoturistas\n",
    "headers = {\n",
    "        'User-Agent': 'Mozilla/5.0 (Windows NT 10.0; Win64; x64) AppleWebKit/537.36 (KHTML, like Gecko) Chrome/115.0.0.0 Safari/537.36',\n",
    "        'Accept': 'text/html,application/xhtml+xml,application/xml;q=0.9,image/webp,image/apng,*/*;q=0.8',\n",
    "        'Accept-Language': 'es',\n",
    "        'Accept-Encoding': 'gzip, deflate, br',\n",
    "        'Connection': 'keep-alive',\n",
    "        'Upgrade-Insecure-Requests': '1',\n",
    "        'Referer': 'https://www.getyourguide.es/'\n",
    " }\n",
    "url = \"https://www.tripadvisor.es/Attractions-g187514-Activities-Madrid.html\"     \n",
    "res_url = requests.get(url, headers=headers)\n",
    "\n",
    "    # Verifica el código de estado\n",
    "print(res_url.status_code)\n",
    "\n",
    "    # Si el código de estado es 200, procesa la respuesta\n",
    "if res_url.status_code == 200:\n",
    "        sopa_actividades = BeautifulSoup(res_url.content, \"html.parser\")\n",
    "        lista_actividades = sopa_actividades.findAll(\"div\",class_=\"mcaGV\")\n",
    "        lista_vacia = []\n",
    "    \n",
    "        for i in lista_actividades:\n",
    "                print(i.getText())\n",
    "\n",
    "                #Nofunciona..."
   ]
  }
 ],
 "metadata": {
  "kernelspec": {
   "display_name": "base",
   "language": "python",
   "name": "python3"
  },
  "language_info": {
   "codemirror_mode": {
    "name": "ipython",
    "version": 3
   },
   "file_extension": ".py",
   "mimetype": "text/x-python",
   "name": "python",
   "nbconvert_exporter": "python",
   "pygments_lexer": "ipython3",
   "version": "3.11.7"
  }
 },
 "nbformat": 4,
 "nbformat_minor": 2
}
