{
 "cells": [
  {
   "cell_type": "code",
   "execution_count": 1,
   "metadata": {},
   "outputs": [],
   "source": [
    "# Importamos las librerías que necesitamos\n",
    "\n",
    "# Librerías de extracción de datos\n",
    "# -----------------------------------------------------------------------\n",
    "\n",
    "# Importaciones:\n",
    "# Beautifulsoup\n",
    "from bs4 import BeautifulSoup\n",
    "\n",
    "# Requests\n",
    "import requests\n",
    "\n",
    "# Importar librerías para automatización de navegadores web con Selenium\n",
    "# -----------------------------------------------------------------------\n",
    "from selenium import webdriver  # Selenium es una herramienta para automatizar la interacción con navegadores web.\n",
    "from webdriver_manager.chrome import ChromeDriverManager  # ChromeDriverManager gestiona la instalación del controlador de Chrome.\n",
    "from selenium.webdriver.common.keys import Keys  # Keys es útil para simular eventos de teclado en Selenium.\n",
    "from selenium.webdriver.support.ui import Select  # Select se utiliza para interactuar con elementos <select> en páginas web.\n",
    "from selenium.webdriver.support.ui import WebDriverWait\n",
    "from selenium.webdriver.support import expected_conditions as EC\n",
    "from selenium.common.exceptions import NoSuchElementException # Excepciones comunes de selenium que nos podemos encontrar \n",
    "\n",
    "\n",
    "# Importar librerías para pausar la ejecución\n",
    "# -----------------------------------------------------------------------\n",
    "from time import sleep  # Sleep se utiliza para pausar la ejecución del programa por un número de segundos.\n",
    "\n",
    "# Librerías para tratamiento de datos\n",
    "# -----------------------------------------------------------------------\n",
    "import pandas as pd\n",
    "import numpy as np\n",
    "\n",
    "import sys\n",
    "sys.path.append(\"../\")\n",
    "from src import soporte"
   ]
  },
  {
   "cell_type": "markdown",
   "metadata": {},
   "source": [
    "# Elegimos dos destinos: París y Berlín.\n",
    "### Necesitamos actividades para la familia, pareja, aventurero solitario, grupo de amigos y viajeros eco \n",
    "### Necesitamos alojamientos\n",
    "### Necesitamos información sobre los vuelos"
   ]
  },
  {
   "cell_type": "markdown",
   "metadata": {},
   "source": [
    "París en familia\n"
   ]
  },
  {
   "cell_type": "code",
   "execution_count": null,
   "metadata": {},
   "outputs": [],
   "source": [
    "#Actividades para la familia\n",
    "url_paris = \"https://www.civitatis.com/es/paris?aid=100&cmp=es_ES_Nonbrand&cmpint=_Destinos_Actividades_RSA&gad_source=1&gclid=CjwKCAjw1NK4BhAwEiwAVUHPUCe9UkqTMY_MVB1q8iEPTuEQUOm_01y63B8BP_PHe4ImmlG0n4_eWRoCYzkQAvD_BwE&gclsrc=aw.ds\"\n",
    "res_url = requests.get(url_paris)\n",
    "res_url.status_code\n",
    "\n",
    "sopa_actividades_paris = BeautifulSoup(res_url.content,\"html.parser\")\n",
    "lista_actividades_paris = sopa_actividades_paris.findAll(\"h2\")\n",
    "activ_paris = []\n",
    "for actividad in lista_actividades_paris:\n",
    "    activ_paris.append(actividad.getText(strip = True))\n",
    "\n",
    "activ_paris = activ_paris[:-3]\n",
    "activ_paris\n",
    "##Implementar varias paginas en el futuro"
   ]
  },
  {
   "cell_type": "markdown",
   "metadata": {},
   "source": [
    "París en pareja"
   ]
  },
  {
   "cell_type": "code",
   "execution_count": null,
   "metadata": {},
   "outputs": [],
   "source": [
    "#Actividades en pareja\n",
    "act_par = soporte.sacar_info_h2(\"https://es.hoteles.com/go/francia/actividades-en-pareja-en-paris\")\n",
    "actividades_en_pareja_paris = act_par[2:-4]\n",
    "actividades_en_pareja_paris"
   ]
  },
  {
   "cell_type": "markdown",
   "metadata": {},
   "source": [
    "París en solitario"
   ]
  },
  {
   "cell_type": "code",
   "execution_count": null,
   "metadata": {},
   "outputs": [],
   "source": [
    "#Actividades para aventureros solitarios\n",
    "headers = {\n",
    "        'User-Agent': 'Mozilla/5.0 (Windows NT 10.0; Win64; x64) AppleWebKit/537.36 (KHTML, like Gecko) Chrome/115.0.0.0 Safari/537.36',\n",
    "        'Accept': 'text/html,application/xhtml+xml,application/xml;q=0.9,image/webp,image/apng,*/*;q=0.8',\n",
    "        'Accept-Language': 'es',\n",
    "        'Accept-Encoding': 'gzip, deflate, br',\n",
    "        'Connection': 'keep-alive',\n",
    "        'Upgrade-Insecure-Requests': '1',\n",
    "        'Referer': 'https://www.getyourguide.es/'\n",
    " }\n",
    "url = \"https://www.tripadvisor.es/Attractions-g187147-Activities-zft12163-Paris_Ile_de_France.html\"     \n",
    "res_url = requests.get(url, headers=headers)\n",
    "\n",
    "    # Verifica el código de estado\n",
    "print(res_url.status_code)\n",
    "\n",
    "    # Si el código de estado es 200, procesa la respuesta\n",
    "if res_url.status_code == 200:\n",
    "        sopa_actividades = BeautifulSoup(res_url.content, \"html.parser\")\n",
    "        lista_actividades = sopa_actividades.findAll(\"div\", class_= \"XfVdV o AIbhI\")\n",
    "        lista_vacia = []\n",
    "    \n",
    "        for i in lista_actividades:\n",
    "                print(i.getText())\n",
    "\n"
   ]
  },
  {
   "cell_type": "code",
   "execution_count": 66,
   "metadata": {},
   "outputs": [],
   "source": [
    "\n",
    "ruta_guardado = \"..\\..\\HTMLs\"\n",
    "html_aventuras_paris = sopa_actividades.prettify()\n",
    "with open(ruta_guardado, \"w\", encoding=\"utf-8\") as archivo:\n",
    "    archivo.write(html_aventuras_paris)"
   ]
  },
  {
   "cell_type": "markdown",
   "metadata": {},
   "source": [
    "París con amigos"
   ]
  },
  {
   "cell_type": "code",
   "execution_count": null,
   "metadata": {},
   "outputs": [],
   "source": [
    "#Actividades para hacer con amigos\n",
    "headers = {\n",
    "        'User-Agent': 'Mozilla/5.0 (Windows NT 10.0; Win64; x64) AppleWebKit/537.36 (KHTML, like Gecko) Chrome/115.0.0.0 Safari/537.36',\n",
    "        'Accept': 'text/html,application/xhtml+xml,application/xml;q=0.9,image/webp,image/apng,*/*;q=0.8',\n",
    "        'Accept-Language': 'es',\n",
    "        'Accept-Encoding': 'gzip, deflate, br',\n",
    "        'Connection': 'keep-alive',\n",
    "        'Upgrade-Insecure-Requests': '1',\n",
    "        'Referer': 'https://www.getyourguide.es/'\n",
    " }\n",
    "url = \"https://www.tripadvisor.es/Attractions-g187147-Activities-c20-Paris_Ile_de_France.html\"     \n",
    "res_url = requests.get(url, headers=headers)\n",
    "\n",
    "    # Verifica el código de estado\n",
    "print(res_url.status_code)\n",
    "\n",
    "    # Si el código de estado es 200, procesa la respuesta\n",
    "if res_url.status_code == 200:\n",
    "        sopa_actividades = BeautifulSoup(res_url.content, \"html.parser\")\n",
    "        lista_actividades = sopa_actividades.findAll(\"div\", class_= \"XfVdV o AIbhI\")\n",
    "        lista_vacia = []\n",
    "    \n",
    "        for i in lista_actividades:\n",
    "                print(i.getText())\n",
    "    \n",
    "#Sacar el precio"
   ]
  },
  {
   "cell_type": "code",
   "execution_count": null,
   "metadata": {},
   "outputs": [],
   "source": [
    "\n",
    "ruta_guardado = \"..\\..\\HTMLs\"\n",
    "html_vidanoct_paris = sopa_actividades.prettify()\n",
    "with open(ruta_guardado, \"w\", encoding=\"utf-8\") as archivo:\n",
    "    archivo.write(html_vidanoct_paris)"
   ]
  },
  {
   "cell_type": "markdown",
   "metadata": {},
   "source": [
    "París Eco-sostenible"
   ]
  },
  {
   "cell_type": "code",
   "execution_count": null,
   "metadata": {},
   "outputs": [],
   "source": [
    "#Actividades eco-sostenibles\n",
    "import re\n",
    "lista_ecosostenible = soporte.sacar_info(\"https://www.france.fr/es/articulo/7-etapas-ecorresponsables-y-solidarias-descubrir-paris/\",\"h2\")\n",
    "lista = []\n",
    "for i in lista_ecosostenible:\n",
    "    partes = re.split(r'\\s*-\\s*', i)\n",
    "    lista.append(partes[-1])\n",
    "\n",
    "print(f\"las actividades ecosostenibles de parís son: {lista[:-1]}\")\n",
    "\n",
    "#Repasar esto, pero por ahora funciona\n"
   ]
  }
 ],
 "metadata": {
  "kernelspec": {
   "display_name": "base",
   "language": "python",
   "name": "python3"
  },
  "language_info": {
   "codemirror_mode": {
    "name": "ipython",
    "version": 3
   },
   "file_extension": ".py",
   "mimetype": "text/x-python",
   "name": "python",
   "nbconvert_exporter": "python",
   "pygments_lexer": "ipython3",
   "version": "3.11.7"
  }
 },
 "nbformat": 4,
 "nbformat_minor": 2
}
